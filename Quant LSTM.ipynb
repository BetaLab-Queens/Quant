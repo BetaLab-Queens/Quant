{
 "cells": [
  {
   "cell_type": "code",
   "execution_count": 1,
   "metadata": {},
   "outputs": [
    {
     "name": "stderr",
     "output_type": "stream",
     "text": [
      "Using TensorFlow backend.\n"
     ]
    }
   ],
   "source": [
    "import yfinance as yf\n",
    "import numpy as np\n",
    "import pandas as pd\n",
    "import datetime as dt\n",
    "import matplotlib.pyplot as plt\n",
    "from sklearn.model_selection import train_test_split\n",
    "from sklearn.preprocessing import MinMaxScaler\n",
    "import math\n",
    "\n",
    "from keras.models import Sequential\n",
    "from keras.layers import LSTM\n",
    "from keras.layers import Dropout\n",
    "from keras.layers import Dense\n",
    "\n",
    "np.random.seed(4)"
   ]
  },
  {
   "cell_type": "code",
   "execution_count": 2,
   "metadata": {},
   "outputs": [
    {
     "name": "stdout",
     "output_type": "stream",
     "text": [
      "[*********************100%***********************]  1 of 1 completed\n"
     ]
    },
    {
     "data": {
      "text/html": [
       "<div>\n",
       "<style scoped>\n",
       "    .dataframe tbody tr th:only-of-type {\n",
       "        vertical-align: middle;\n",
       "    }\n",
       "\n",
       "    .dataframe tbody tr th {\n",
       "        vertical-align: top;\n",
       "    }\n",
       "\n",
       "    .dataframe thead th {\n",
       "        text-align: right;\n",
       "    }\n",
       "</style>\n",
       "<table border=\"1\" class=\"dataframe\">\n",
       "  <thead>\n",
       "    <tr style=\"text-align: right;\">\n",
       "      <th></th>\n",
       "      <th>Close</th>\n",
       "    </tr>\n",
       "    <tr>\n",
       "      <th>Date</th>\n",
       "      <th></th>\n",
       "    </tr>\n",
       "  </thead>\n",
       "  <tbody>\n",
       "    <tr>\n",
       "      <th>2012-01-03</th>\n",
       "      <td>58.747143</td>\n",
       "    </tr>\n",
       "    <tr>\n",
       "      <th>2012-01-04</th>\n",
       "      <td>59.062859</td>\n",
       "    </tr>\n",
       "    <tr>\n",
       "      <th>2012-01-05</th>\n",
       "      <td>59.718571</td>\n",
       "    </tr>\n",
       "    <tr>\n",
       "      <th>2012-01-06</th>\n",
       "      <td>60.342857</td>\n",
       "    </tr>\n",
       "    <tr>\n",
       "      <th>2012-01-09</th>\n",
       "      <td>60.247143</td>\n",
       "    </tr>\n",
       "  </tbody>\n",
       "</table>\n",
       "</div>"
      ],
      "text/plain": [
       "                Close\n",
       "Date                 \n",
       "2012-01-03  58.747143\n",
       "2012-01-04  59.062859\n",
       "2012-01-05  59.718571\n",
       "2012-01-06  60.342857\n",
       "2012-01-09  60.247143"
      ]
     },
     "execution_count": 2,
     "metadata": {},
     "output_type": "execute_result"
    }
   ],
   "source": [
    "stock_data = yf.download('AAPL','2012-01-03','2020-03-13')\n",
    "raw_data = stock_data.filter(['Close'])\n",
    "raw_data.head()"
   ]
  },
  {
   "cell_type": "code",
   "execution_count": 3,
   "metadata": {},
   "outputs": [
    {
     "data": {
      "text/plain": [
       "(2061, 1)"
      ]
     },
     "execution_count": 3,
     "metadata": {},
     "output_type": "execute_result"
    }
   ],
   "source": [
    "scaler = MinMaxScaler(feature_range=(0, 1)) \n",
    "scaled_data = scaler.fit_transform(raw_data)\n",
    "scaled_data.shape"
   ]
  },
  {
   "cell_type": "code",
   "execution_count": 4,
   "metadata": {},
   "outputs": [],
   "source": [
    "data_len = len(scaled_data)\n",
    "data = scaled_data[:data_len, : ]\n",
    "seed_len = 60\n",
    "\n",
    "x = []\n",
    "y = []\n",
    "\n",
    "for i in range(seed_len, len(data)):\n",
    "    x.append(data[i-seed_len:i, 0])\n",
    "    y.append(data[i, 0])\n",
    "    \n",
    "\n",
    "x = np.array(x)\n",
    "y = np.array(y)\n",
    "\n",
    "x = np.reshape(x, (x.shape[0], x.shape[1], 1))\n",
    "y = np.reshape(y, (y.shape[0], 1))"
   ]
  },
  {
   "cell_type": "code",
   "execution_count": 5,
   "metadata": {},
   "outputs": [],
   "source": [
    "train_data_len = math.ceil(data_len * 0.8)\n",
    "\n",
    "x_train = x[:train_data_len]\n",
    "y_train = y[:train_data_len]\n",
    "\n",
    "x_test = x[train_data_len:]\n",
    "y_test = y[train_data_len:]"
   ]
  },
  {
   "cell_type": "code",
   "execution_count": 6,
   "metadata": {},
   "outputs": [],
   "source": [
    "model = Sequential()\n",
    "model.add(LSTM(units=50,return_sequences=True,input_shape=(x_train.shape[1], 1)))\n",
    "model.add(Dropout(0.2))\n",
    "model.add(LSTM(units=50,return_sequences=True))\n",
    "model.add(Dropout(0.2))\n",
    "model.add(LSTM(units=50,return_sequences=True))\n",
    "model.add(Dropout(0.2))\n",
    "model.add(LSTM(units=50))\n",
    "model.add(Dropout(0.2))\n",
    "model.add(Dense(units=1))\n",
    "model.compile(optimizer='adam',loss='mean_squared_error')"
   ]
  },
  {
   "cell_type": "code",
   "execution_count": 7,
   "metadata": {},
   "outputs": [
    {
     "name": "stdout",
     "output_type": "stream",
     "text": [
      "Epoch 1/100\n",
      "1649/1649 [==============================] - 8s 5ms/step - loss: 0.0070\n",
      "Epoch 2/100\n",
      "1649/1649 [==============================] - 6s 4ms/step - loss: 0.0014\n",
      "Epoch 3/100\n",
      "1649/1649 [==============================] - 6s 4ms/step - loss: 0.0010\n",
      "Epoch 4/100\n",
      "1649/1649 [==============================] - 6s 4ms/step - loss: 0.0013\n",
      "Epoch 5/100\n",
      "1649/1649 [==============================] - 6s 4ms/step - loss: 0.0010\n",
      "Epoch 6/100\n",
      "1649/1649 [==============================] - 7s 4ms/step - loss: 9.5400e-04\n",
      "Epoch 7/100\n",
      "1649/1649 [==============================] - 7s 4ms/step - loss: 9.7030e-04\n",
      "Epoch 8/100\n",
      "1649/1649 [==============================] - 7s 4ms/step - loss: 8.6646e-04\n",
      "Epoch 9/100\n",
      "1649/1649 [==============================] - 7s 4ms/step - loss: 9.2959e-04\n",
      "Epoch 10/100\n",
      "1649/1649 [==============================] - 7s 4ms/step - loss: 8.1790e-04\n",
      "Epoch 11/100\n",
      "1649/1649 [==============================] - 7s 4ms/step - loss: 8.1750e-04\n",
      "Epoch 12/100\n",
      "1649/1649 [==============================] - 7s 4ms/step - loss: 7.7410e-04\n",
      "Epoch 13/100\n",
      "1649/1649 [==============================] - 7s 4ms/step - loss: 7.8831e-04\n",
      "Epoch 14/100\n",
      "1649/1649 [==============================] - 6s 4ms/step - loss: 8.0069e-04\n",
      "Epoch 15/100\n",
      "1649/1649 [==============================] - 7s 4ms/step - loss: 6.8955e-04\n",
      "Epoch 16/100\n",
      "1649/1649 [==============================] - 7s 4ms/step - loss: 6.8061e-04\n",
      "Epoch 17/100\n",
      "1649/1649 [==============================] - 7s 4ms/step - loss: 6.4526e-04\n",
      "Epoch 18/100\n",
      "1649/1649 [==============================] - 7s 4ms/step - loss: 6.5676e-04\n",
      "Epoch 19/100\n",
      "1649/1649 [==============================] - 7s 4ms/step - loss: 5.7428e-04\n",
      "Epoch 20/100\n",
      "1649/1649 [==============================] - 7s 4ms/step - loss: 6.5344e-04\n",
      "Epoch 21/100\n",
      "1649/1649 [==============================] - 7s 4ms/step - loss: 6.9739e-04\n",
      "Epoch 22/100\n",
      "1649/1649 [==============================] - 7s 4ms/step - loss: 6.6227e-04\n",
      "Epoch 23/100\n",
      "1649/1649 [==============================] - 7s 4ms/step - loss: 5.1627e-04\n",
      "Epoch 24/100\n",
      "1649/1649 [==============================] - 7s 4ms/step - loss: 5.6814e-04\n",
      "Epoch 25/100\n",
      "1649/1649 [==============================] - 7s 4ms/step - loss: 6.2056e-04\n",
      "Epoch 26/100\n",
      "1649/1649 [==============================] - 7s 4ms/step - loss: 5.1176e-04\n",
      "Epoch 27/100\n",
      "1649/1649 [==============================] - 7s 4ms/step - loss: 5.4130e-04\n",
      "Epoch 28/100\n",
      "1649/1649 [==============================] - 6s 4ms/step - loss: 5.2243e-04\n",
      "Epoch 29/100\n",
      "1649/1649 [==============================] - 7s 4ms/step - loss: 5.2307e-04\n",
      "Epoch 30/100\n",
      "1649/1649 [==============================] - 7s 4ms/step - loss: 5.5150e-04\n",
      "Epoch 31/100\n",
      "1649/1649 [==============================] - 7s 4ms/step - loss: 5.4075e-04\n",
      "Epoch 32/100\n",
      "1649/1649 [==============================] - 7s 4ms/step - loss: 4.6841e-04\n",
      "Epoch 33/100\n",
      "1649/1649 [==============================] - 7s 4ms/step - loss: 5.1668e-04\n",
      "Epoch 34/100\n",
      "1649/1649 [==============================] - 7s 4ms/step - loss: 5.1536e-04\n",
      "Epoch 35/100\n",
      "1649/1649 [==============================] - 7s 4ms/step - loss: 4.6598e-04\n",
      "Epoch 36/100\n",
      "1649/1649 [==============================] - 7s 4ms/step - loss: 4.6215e-04\n",
      "Epoch 37/100\n",
      "1649/1649 [==============================] - 7s 4ms/step - loss: 5.1898e-04\n",
      "Epoch 38/100\n",
      "1649/1649 [==============================] - 7s 4ms/step - loss: 4.6458e-04\n",
      "Epoch 39/100\n",
      "1649/1649 [==============================] - 7s 4ms/step - loss: 4.2733e-04\n",
      "Epoch 40/100\n",
      "1649/1649 [==============================] - 7s 4ms/step - loss: 4.7691e-04\n",
      "Epoch 41/100\n",
      "1649/1649 [==============================] - 7s 4ms/step - loss: 4.8842e-04\n",
      "Epoch 42/100\n",
      "1649/1649 [==============================] - 7s 4ms/step - loss: 3.9004e-04\n",
      "Epoch 43/100\n",
      "1649/1649 [==============================] - 7s 4ms/step - loss: 4.2356e-04\n",
      "Epoch 44/100\n",
      "1649/1649 [==============================] - 7s 4ms/step - loss: 4.9392e-04\n",
      "Epoch 45/100\n",
      "1649/1649 [==============================] - 6s 4ms/step - loss: 4.4475e-04\n",
      "Epoch 46/100\n",
      "1649/1649 [==============================] - 7s 4ms/step - loss: 3.8698e-04\n",
      "Epoch 47/100\n",
      "1649/1649 [==============================] - 7s 4ms/step - loss: 3.7699e-04\n",
      "Epoch 48/100\n",
      "1649/1649 [==============================] - 7s 4ms/step - loss: 4.1067e-04\n",
      "Epoch 49/100\n",
      "1649/1649 [==============================] - 7s 4ms/step - loss: 3.7643e-04\n",
      "Epoch 50/100\n",
      "1649/1649 [==============================] - 7s 4ms/step - loss: 4.0978e-04\n",
      "Epoch 51/100\n",
      "1649/1649 [==============================] - 7s 4ms/step - loss: 4.2860e-04\n",
      "Epoch 52/100\n",
      "1649/1649 [==============================] - 7s 4ms/step - loss: 4.2536e-04\n",
      "Epoch 53/100\n",
      "1649/1649 [==============================] - 7s 4ms/step - loss: 3.6274e-04\n",
      "Epoch 54/100\n",
      "1649/1649 [==============================] - 7s 4ms/step - loss: 3.7373e-04\n",
      "Epoch 55/100\n",
      "1649/1649 [==============================] - 7s 4ms/step - loss: 3.8519e-04\n",
      "Epoch 56/100\n",
      "1649/1649 [==============================] - 7s 4ms/step - loss: 3.8588e-04\n",
      "Epoch 57/100\n",
      "1649/1649 [==============================] - 7s 4ms/step - loss: 3.9051e-04\n",
      "Epoch 58/100\n",
      "1649/1649 [==============================] - 6s 4ms/step - loss: 3.7691e-04\n",
      "Epoch 59/100\n",
      "1649/1649 [==============================] - 7s 4ms/step - loss: 3.8190e-04\n",
      "Epoch 60/100\n",
      "1649/1649 [==============================] - 7s 4ms/step - loss: 3.5781e-04\n",
      "Epoch 61/100\n",
      "1649/1649 [==============================] - 7s 4ms/step - loss: 3.7213e-04\n",
      "Epoch 62/100\n",
      "1649/1649 [==============================] - 7s 4ms/step - loss: 3.5061e-04\n",
      "Epoch 63/100\n",
      "1649/1649 [==============================] - 7s 4ms/step - loss: 3.1949e-04\n",
      "Epoch 64/100\n",
      "1649/1649 [==============================] - 7s 4ms/step - loss: 3.6827e-04\n",
      "Epoch 65/100\n",
      "1649/1649 [==============================] - 7s 4ms/step - loss: 3.3050e-04\n",
      "Epoch 66/100\n",
      "1649/1649 [==============================] - 7s 4ms/step - loss: 3.0642e-04\n",
      "Epoch 67/100\n",
      "1649/1649 [==============================] - 7s 4ms/step - loss: 3.3441e-04\n",
      "Epoch 68/100\n",
      "1649/1649 [==============================] - 7s 4ms/step - loss: 3.3332e-04\n",
      "Epoch 69/100\n",
      "1649/1649 [==============================] - 7s 4ms/step - loss: 3.8047e-04\n",
      "Epoch 70/100\n",
      "1649/1649 [==============================] - 7s 4ms/step - loss: 3.1757e-04\n",
      "Epoch 71/100\n",
      "1649/1649 [==============================] - 7s 4ms/step - loss: 3.4561e-04\n",
      "Epoch 72/100\n",
      "1649/1649 [==============================] - 7s 4ms/step - loss: 3.5457e-04\n",
      "Epoch 73/100\n",
      "1649/1649 [==============================] - 7s 4ms/step - loss: 3.8801e-04\n",
      "Epoch 74/100\n",
      "1649/1649 [==============================] - 7s 4ms/step - loss: 3.2830e-04\n",
      "Epoch 75/100\n",
      "1649/1649 [==============================] - 7s 4ms/step - loss: 2.9908e-04\n",
      "Epoch 76/100\n",
      "1649/1649 [==============================] - 7s 4ms/step - loss: 2.9398e-04\n",
      "Epoch 77/100\n",
      "1649/1649 [==============================] - 7s 4ms/step - loss: 3.0917e-04\n",
      "Epoch 78/100\n",
      "1649/1649 [==============================] - 7s 4ms/step - loss: 3.1007e-04\n",
      "Epoch 79/100\n",
      "1649/1649 [==============================] - 7s 4ms/step - loss: 2.9501e-04\n",
      "Epoch 80/100\n",
      "1649/1649 [==============================] - 7s 4ms/step - loss: 3.5509e-04\n",
      "Epoch 81/100\n",
      "1649/1649 [==============================] - 7s 4ms/step - loss: 4.3489e-04\n",
      "Epoch 82/100\n",
      "1649/1649 [==============================] - 7s 4ms/step - loss: 3.8845e-04\n",
      "Epoch 83/100\n",
      "1649/1649 [==============================] - 7s 4ms/step - loss: 3.0380e-04\n",
      "Epoch 84/100\n",
      "1649/1649 [==============================] - 7s 4ms/step - loss: 3.1845e-04\n",
      "Epoch 85/100\n",
      "1649/1649 [==============================] - 7s 4ms/step - loss: 3.5789e-04\n",
      "Epoch 86/100\n",
      "1649/1649 [==============================] - 7s 4ms/step - loss: 2.8226e-04\n",
      "Epoch 87/100\n",
      "1649/1649 [==============================] - 7s 4ms/step - loss: 3.0157e-04\n",
      "Epoch 88/100\n",
      "1649/1649 [==============================] - 7s 4ms/step - loss: 3.1635e-04\n",
      "Epoch 89/100\n",
      "1649/1649 [==============================] - 7s 4ms/step - loss: 3.8219e-04\n",
      "Epoch 90/100\n",
      "1649/1649 [==============================] - 7s 4ms/step - loss: 2.9573e-04\n",
      "Epoch 91/100\n",
      "1649/1649 [==============================] - 7s 4ms/step - loss: 3.1258e-04\n",
      "Epoch 92/100\n",
      "1649/1649 [==============================] - 7s 4ms/step - loss: 3.1247e-04\n",
      "Epoch 93/100\n"
     ]
    },
    {
     "name": "stdout",
     "output_type": "stream",
     "text": [
      "1649/1649 [==============================] - 7s 4ms/step - loss: 3.0806e-04\n",
      "Epoch 94/100\n",
      "1649/1649 [==============================] - 7s 4ms/step - loss: 3.2941e-04\n",
      "Epoch 95/100\n",
      "1649/1649 [==============================] - 7s 4ms/step - loss: 3.0449e-04\n",
      "Epoch 96/100\n",
      "1649/1649 [==============================] - 7s 4ms/step - loss: 3.2469e-04\n",
      "Epoch 97/100\n",
      "1649/1649 [==============================] - 7s 4ms/step - loss: 2.8153e-04\n",
      "Epoch 98/100\n",
      "1649/1649 [==============================] - 7s 4ms/step - loss: 2.9845e-04\n",
      "Epoch 99/100\n",
      "1649/1649 [==============================] - 7s 4ms/step - loss: 2.7253e-04\n",
      "Epoch 100/100\n",
      "1649/1649 [==============================] - 7s 4ms/step - loss: 2.7415e-04\n"
     ]
    },
    {
     "data": {
      "text/plain": [
       "<keras.callbacks.callbacks.History at 0x27dd4906108>"
      ]
     },
     "execution_count": 7,
     "metadata": {},
     "output_type": "execute_result"
    }
   ],
   "source": [
    "model.fit(x_train,y_train,epochs=100,batch_size=32)"
   ]
  },
  {
   "cell_type": "code",
   "execution_count": 8,
   "metadata": {},
   "outputs": [],
   "source": [
    "predicted_stock_price = model.predict(x_test)\n",
    "predicted_stock_price = scaler.inverse_transform(predicted_stock_price)"
   ]
  },
  {
   "cell_type": "code",
   "execution_count": 9,
   "metadata": {},
   "outputs": [
    {
     "data": {
      "image/png": "[encoded data removed]",
      "text/plain": [
       "<Figure size 432x288 with 1 Axes>"
      ]
     },
     "metadata": {
      "needs_background": "light"
     },
     "output_type": "display_data"
    }
   ],
   "source": [
    "plt.plot(scaler.inverse_transform(y_test), label = 'APPL Stock Price')\n",
    "plt.plot(predicted_stock_price, label = 'Predicted APPL Stock Price')\n",
    "plt.title('APPL Stock Price Prediction')\n",
    "plt.xlabel('Time')\n",
    "plt.ylabel('APPL Stock Price')\n",
    "plt.legend()\n",
    "plt.show()"
   ]
  }
 ],
 "metadata": {
  "kernelspec": {
   "display_name": "Python 3",
   "language": "python",
   "name": "python3"
  },
  "language_info": {
   "codemirror_mode": {
    "name": "ipython",
    "version": 3
   },
   "file_extension": ".py",
   "mimetype": "text/x-python",
   "name": "python",
   "nbconvert_exporter": "python",
   "pygments_lexer": "ipython3",
   "version": "3.7.6"
  }
 },
 "nbformat": 4,
 "nbformat_minor": 4
}
